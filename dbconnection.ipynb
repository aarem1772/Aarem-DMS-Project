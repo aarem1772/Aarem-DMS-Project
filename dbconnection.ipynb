{
 "cells": [
  {
   "cell_type": "code",
   "execution_count": 10,
   "id": "6f59820f",
   "metadata": {},
   "outputs": [],
   "source": [
    "import pickle\n",
    "import numpy as np\n",
    "\n",
    "import pyodbc \n",
    "import pandas as pd\n"
   ]
  },
  {
   "cell_type": "code",
   "execution_count": 11,
   "id": "d925a392",
   "metadata": {},
   "outputs": [],
   "source": [
    "loaded_model = pickle.load(open('streamlit_insurance_predictcharges.pkl', 'rb'))"
   ]
  },
  {
   "cell_type": "code",
   "execution_count": 12,
   "id": "a08cba9a",
   "metadata": {
    "scrolled": true
   },
   "outputs": [
    {
     "data": {
      "text/html": [
       "<div>\n",
       "<style scoped>\n",
       "    .dataframe tbody tr th:only-of-type {\n",
       "        vertical-align: middle;\n",
       "    }\n",
       "\n",
       "    .dataframe tbody tr th {\n",
       "        vertical-align: top;\n",
       "    }\n",
       "\n",
       "    .dataframe thead th {\n",
       "        text-align: right;\n",
       "    }\n",
       "</style>\n",
       "<table border=\"1\" class=\"dataframe\">\n",
       "  <thead>\n",
       "    <tr style=\"text-align: right;\">\n",
       "      <th></th>\n",
       "      <th>gender</th>\n",
       "      <th>smoking</th>\n",
       "      <th>custaddress</th>\n",
       "      <th>age</th>\n",
       "      <th>bmi</th>\n",
       "      <th>no_of_children</th>\n",
       "    </tr>\n",
       "  </thead>\n",
       "  <tbody>\n",
       "    <tr>\n",
       "      <th>0</th>\n",
       "      <td>M</td>\n",
       "      <td>Yes</td>\n",
       "      <td>Southeast</td>\n",
       "      <td>40</td>\n",
       "      <td>24</td>\n",
       "      <td>2</td>\n",
       "    </tr>\n",
       "    <tr>\n",
       "      <th>1</th>\n",
       "      <td>M</td>\n",
       "      <td>No</td>\n",
       "      <td>Southwest</td>\n",
       "      <td>34</td>\n",
       "      <td>27</td>\n",
       "      <td>3</td>\n",
       "    </tr>\n",
       "    <tr>\n",
       "      <th>2</th>\n",
       "      <td>F</td>\n",
       "      <td>No</td>\n",
       "      <td>Northwest</td>\n",
       "      <td>22</td>\n",
       "      <td>18</td>\n",
       "      <td>0</td>\n",
       "    </tr>\n",
       "    <tr>\n",
       "      <th>3</th>\n",
       "      <td>M</td>\n",
       "      <td>Yes</td>\n",
       "      <td>Northeast</td>\n",
       "      <td>50</td>\n",
       "      <td>35</td>\n",
       "      <td>2</td>\n",
       "    </tr>\n",
       "  </tbody>\n",
       "</table>\n",
       "</div>"
      ],
      "text/plain": [
       "  gender smoking custaddress  age  bmi  no_of_children\n",
       "0      M     Yes   Southeast   40   24               2\n",
       "1      M      No   Southwest   34   27               3\n",
       "2      F      No   Northwest   22   18               0\n",
       "3      M     Yes   Northeast   50   35               2"
      ]
     },
     "execution_count": 12,
     "metadata": {},
     "output_type": "execute_result"
    }
   ],
   "source": [
    "conn = pyodbc.connect('Driver={SQL Server};'\n",
    "                      'Server=RM;'\n",
    "                      'Database=INSURANCECOMPANY;'\n",
    "                      'Trusted_Connection=yes;')\n",
    "\n",
    "# cursor = conn.cursor()\n",
    "# cursor.execute('SELECT gender,smoking,custaddress,age,bmi,no_of_children FROM Customer')\n",
    "\n",
    "# list1 = []\n",
    "\n",
    "# for row in cursor:\n",
    "#     dummy =[]\n",
    "#     dummy = row\n",
    "#     list1.append([dummy])\n",
    "# print(list1)\n",
    "\n",
    "# df = pd.DataFrame (list1).transpose()\n",
    "# df.columns =['Gender','smoking','region','age','bmi','children']\n",
    "# df.head()\n",
    "\n",
    "\n",
    "dataframe = pd.read_sql(\"\"\"\n",
    "            SELECT gender,smoking,custaddress,age,bmi,no_of_children FROM Customer\n",
    "            \"\"\", conn)\n",
    "# return your first five rows\n",
    "dataframe.head()\n",
    "\n"
   ]
  },
  {
   "cell_type": "code",
   "execution_count": 13,
   "id": "dc586033",
   "metadata": {},
   "outputs": [
    {
     "data": {
      "text/html": [
       "<div>\n",
       "<style scoped>\n",
       "    .dataframe tbody tr th:only-of-type {\n",
       "        vertical-align: middle;\n",
       "    }\n",
       "\n",
       "    .dataframe tbody tr th {\n",
       "        vertical-align: top;\n",
       "    }\n",
       "\n",
       "    .dataframe thead th {\n",
       "        text-align: right;\n",
       "    }\n",
       "</style>\n",
       "<table border=\"1\" class=\"dataframe\">\n",
       "  <thead>\n",
       "    <tr style=\"text-align: right;\">\n",
       "      <th></th>\n",
       "      <th>gender</th>\n",
       "      <th>smoking</th>\n",
       "      <th>custaddress</th>\n",
       "      <th>age</th>\n",
       "      <th>bmi</th>\n",
       "      <th>no_of_children</th>\n",
       "    </tr>\n",
       "  </thead>\n",
       "  <tbody>\n",
       "    <tr>\n",
       "      <th>0</th>\n",
       "      <td>1</td>\n",
       "      <td>1</td>\n",
       "      <td>2</td>\n",
       "      <td>40</td>\n",
       "      <td>24</td>\n",
       "      <td>2</td>\n",
       "    </tr>\n",
       "    <tr>\n",
       "      <th>1</th>\n",
       "      <td>1</td>\n",
       "      <td>0</td>\n",
       "      <td>1</td>\n",
       "      <td>34</td>\n",
       "      <td>27</td>\n",
       "      <td>3</td>\n",
       "    </tr>\n",
       "    <tr>\n",
       "      <th>2</th>\n",
       "      <td>0</td>\n",
       "      <td>0</td>\n",
       "      <td>3</td>\n",
       "      <td>22</td>\n",
       "      <td>18</td>\n",
       "      <td>0</td>\n",
       "    </tr>\n",
       "    <tr>\n",
       "      <th>3</th>\n",
       "      <td>1</td>\n",
       "      <td>1</td>\n",
       "      <td>0</td>\n",
       "      <td>50</td>\n",
       "      <td>35</td>\n",
       "      <td>2</td>\n",
       "    </tr>\n",
       "  </tbody>\n",
       "</table>\n",
       "</div>"
      ],
      "text/plain": [
       "   gender  smoking  custaddress  age  bmi  no_of_children\n",
       "0       1        1            2   40   24               2\n",
       "1       1        0            1   34   27               3\n",
       "2       0        0            3   22   18               0\n",
       "3       1        1            0   50   35               2"
      ]
     },
     "execution_count": 13,
     "metadata": {},
     "output_type": "execute_result"
    }
   ],
   "source": [
    "#dataframe['gender'] = dataframe['gender'].apply(lambda x : 1 if i[0]=='M' else 0 for i in x )\n",
    "dataframe['gender'] = dataframe['gender'].map({'M': 1 , 'F': 0 })\n",
    "dataframe['smoking'] = dataframe['smoking'].map({'Yes': 1 , 'No': 0 })\n",
    "dataframe['custaddress'] = dataframe['custaddress'].map({'Southeast': 2 , 'Northwest': 3 , 'Southwest' :1 , 'Northeast' : 0 })\n",
    "dataframe.head()\n",
    "#print(dataframe.dtypes)"
   ]
  },
  {
   "cell_type": "code",
   "execution_count": 14,
   "id": "bffdf28d",
   "metadata": {},
   "outputs": [
    {
     "name": "stdout",
     "output_type": "stream",
     "text": [
      "[[1, 1, 2, 40, 24, 2], [1, 0, 1, 34, 27, 3], [0, 0, 3, 22, 18, 0], [1, 1, 0, 50, 35, 2]]\n"
     ]
    }
   ],
   "source": [
    "listOfDFRows = dataframe.to_numpy().tolist()\n",
    "print(listOfDFRows)\n",
    "\n",
    "\n",
    "def cast_matrix(test_matrix, data_type):\n",
    "    return list(map(lambda sub: list(map(data_type, sub)), test_matrix))\n",
    "\n",
    "listOfDFRows = cast_matrix(listOfDFRows, int)\n"
   ]
  },
  {
   "cell_type": "code",
   "execution_count": 15,
   "id": "19617bea",
   "metadata": {},
   "outputs": [
    {
     "name": "stdout",
     "output_type": "stream",
     "text": [
      "Your insurance charges would be: $ 46897.23\n",
      "Your insurance charges would be: $ 45550.69\n",
      "Your insurance charges would be: $ 44615.59\n",
      "Your insurance charges would be: $ 43116.62\n"
     ]
    }
   ],
   "source": [
    "\n",
    "for x in listOfDFRows:\n",
    "    new_list = x\n",
    "    final_features1 = [np.array(new_list)]\n",
    "    #print(final_features1)\n",
    "    prediction =  loaded_model.predict(final_features1)\n",
    "    print('Your insurance charges would be: $',round(prediction[0],2))\n"
   ]
  },
  {
   "cell_type": "code",
   "execution_count": null,
   "id": "2a626bea",
   "metadata": {},
   "outputs": [],
   "source": []
  },
  {
   "cell_type": "code",
   "execution_count": null,
   "id": "82a06a90",
   "metadata": {},
   "outputs": [],
   "source": []
  }
 ],
 "metadata": {
  "kernelspec": {
   "display_name": "Python 3",
   "language": "python",
   "name": "python3"
  },
  "language_info": {
   "codemirror_mode": {
    "name": "ipython",
    "version": 3
   },
   "file_extension": ".py",
   "mimetype": "text/x-python",
   "name": "python",
   "nbconvert_exporter": "python",
   "pygments_lexer": "ipython3",
   "version": "3.9.6"
  }
 },
 "nbformat": 4,
 "nbformat_minor": 5
}
